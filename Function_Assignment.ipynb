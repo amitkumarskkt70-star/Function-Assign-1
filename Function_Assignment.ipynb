{
  "nbformat": 4,
  "nbformat_minor": 0,
  "metadata": {
    "colab": {
      "provenance": []
    },
    "kernelspec": {
      "name": "python3",
      "display_name": "Python 3"
    },
    "language_info": {
      "name": "python"
    }
  },
  "cells": [
    {
      "cell_type": "markdown",
      "source": [
        "#Functions"
      ],
      "metadata": {
        "id": "9MytF_RhSZJ9"
      }
    },
    {
      "cell_type": "markdown",
      "source": [
        "**Q-1 What is the differnce between function and a method in python?**\n",
        "\n",
        "**Answer:-**\n",
        "\n",
        "(Function)\n",
        "\n",
        "A function is a block of reusable code that performs a specific task.\n",
        "\n",
        "It is defined using def keyword.\n",
        "\n",
        "It can exist independently (outside of a class).\n",
        "\n",
        "You call it by its name.\n",
        "\n",
        "Example:-\n"
      ],
      "metadata": {
        "id": "RBxhMH3lMbIU"
      }
    },
    {
      "cell_type": "code",
      "execution_count": null,
      "metadata": {
        "colab": {
          "base_uri": "https://localhost:8080/"
        },
        "id": "qlG7c9ZCLCTf",
        "outputId": "ad14c23a-8bb1-4eaf-ee66-f93bdd3dd902"
      },
      "outputs": [
        {
          "output_type": "stream",
          "name": "stdout",
          "text": [
            "The area is: 50\n",
            "Hello, Amit\n"
          ]
        }
      ],
      "source": [
        "#Example 1\n",
        "def calculate_area(length, width):\n",
        "    \"\"\"Calculates the area of a rectangle.\"\"\"\n",
        "    return length * width\n",
        "\n",
        "area = calculate_area(5, 10)  #call funtion directly\n",
        "print(f\"The area is: {area}\") #Output: The area is : 50\n",
        "\n",
        "#2 example\n",
        "def Aman(name):\n",
        "    return f\"Hello, {name}\"\n",
        "\n",
        "print(Aman(\"Amit\"))   # calling function\n",
        "                       #output : Hello, Amit\n"
      ]
    },
    {
      "cell_type": "markdown",
      "source": [
        "**Method**\n",
        "\n",
        "• A method is also a function, but it is associated with an object/class.\n",
        "\n",
        "• It is defined inside a class.\n",
        "\n",
        "• It usually takes self (the object itself) as the first parameter\n",
        "\n",
        "• It is called using an object (instance)\n",
        "\n",
        "Example\n"
      ],
      "metadata": {
        "id": "GEJtoKJWP_j9"
      }
    },
    {
      "cell_type": "code",
      "source": [
        "#Example 1\n",
        "\n",
        "class Man:\n",
        "    def Aman(self, name):   # method inside a class\n",
        "        return f\"Hello, {name}\"\n",
        "\n",
        "m = Man()\n",
        "print(m.Aman(\"Amit\"))  # calling method through object\n",
        "                       #output : Hello, Amit\n",
        "\n",
        "# Example 2\n",
        "class Dog:\n",
        "    def sound(self, bark):\n",
        "          return f\"Sound, {bark}\"\n",
        "\n",
        "d = Dog()\n",
        "print(d.sound(\"Woof\"))   # Output : Sound, Woof"
      ],
      "metadata": {
        "colab": {
          "base_uri": "https://localhost:8080/"
        },
        "id": "k9M_4A6vRudu",
        "outputId": "fc6d0058-3d45-48d7-ae8b-5bbde4640658"
      },
      "execution_count": null,
      "outputs": [
        {
          "output_type": "stream",
          "name": "stdout",
          "text": [
            "Hello, Amit\n",
            "Sound, Woof\n"
          ]
        }
      ]
    },
    {
      "cell_type": "markdown",
      "source": [
        "**Q-2 Explain the concept of function arguments and parameters in python.**\n",
        "\n",
        "**Answer:-**\n",
        "\n",
        "(Arguments)\n",
        "• Arguments are the actual values you    pass to the function when calling it.\n",
        "• These values get assigned to the      parameters.\n",
        "\n",
        "Type of Arguments\n"
      ],
      "metadata": {
        "id": "TV2A_hhtVk1k"
      }
    },
    {
      "cell_type": "code",
      "source": [
        "greet(\"Amit\")   # \"Amit\" is an argument\n"
      ],
      "metadata": {
        "id": "kQ7U1T2cYWnZ"
      },
      "execution_count": null,
      "outputs": []
    },
    {
      "cell_type": "markdown",
      "source": [
        "**Parameters:-**\n",
        "\n",
        "Variables that are defined in the function definition.\n",
        "\n",
        "They act as placeholder for values.\n",
        "\n",
        "Example:"
      ],
      "metadata": {
        "id": "gCq_X0TbS8UB"
      }
    },
    {
      "cell_type": "code",
      "source": [
        "def greet(name):  # 'name' is a parameter\n",
        "    return f\"Hello, {name}!\"\n",
        "\n",
        "print(greet(\"Amit\"))  # 'Amit' is an argument\n"
      ],
      "metadata": {
        "id": "17nJrdr_YyWQ"
      },
      "execution_count": null,
      "outputs": []
    },
    {
      "cell_type": "markdown",
      "source": [
        "**Q3:-What are the different ways to define and call a function in Python?**\n",
        "\n",
        "**Answer:-**\n",
        "\n",
        " 4 ways to define a function in Python\n",
        "   \n",
        "   1:- Simple Function (with parameters/without parameters\n",
        "   \n",
        "   2:- Function with Return Value\n",
        "   \n",
        "   3:- Function with Default Value\n",
        "   \n",
        "   4:- Variable-Length Arguments\n",
        "\n",
        "   5:- Lambda Function (Anonymous Function)\n",
        "\n",
        "   6:- Nested Function\n",
        "\n",
        "   7:- Recusrsive Function (calls itself)\n",
        "\n",
        "Examples:"
      ],
      "metadata": {
        "id": "m2_ubADsXkcS"
      }
    },
    {
      "cell_type": "code",
      "source": [
        "# 1 Simple Function\n",
        "def greet():\n",
        "    print(\"Hello, World\")\n",
        "\n",
        "def greet_user(name):   # with parameter\n",
        "    print(f\"Hello, {name}\")\n"
      ],
      "metadata": {
        "id": "zoDR2VNZXsQp"
      },
      "execution_count": null,
      "outputs": []
    },
    {
      "cell_type": "code",
      "source": [
        "# 2 Function with Return Value\n",
        "'''A function with return value sends a result\n",
        " back to the caller using the return statement. '''\n",
        "\n",
        "def add(a, b):\n",
        "    return a + b\n"
      ],
      "metadata": {
        "id": "Bhug184QZgU5"
      },
      "execution_count": null,
      "outputs": []
    },
    {
      "cell_type": "code",
      "source": [
        "# 3 Function with Default parameter\n",
        "'''A function with default arguments\n",
        " means you set a default value for parameters.'''\n",
        "\n",
        "def greet(name=\"Guest\"):\n",
        "    print(f\"Hello, {name}\")\n"
      ],
      "metadata": {
        "id": "_rGVmRUMZlyp"
      },
      "execution_count": null,
      "outputs": []
    },
    {
      "cell_type": "code",
      "source": [
        "# 4 Variable-Length Arguments\n",
        "'''Variable-length arguments allow a function to accept any number of inputs.'''\n",
        "def show_numbers(*args):  # *args → accepts multiple positional arguments\n",
        "    print(args)\n",
        "\n",
        "def show_info(**kwargs):  # **kwargs → accepts multiple keyword arguments\n",
        "    print(kwargs)\n"
      ],
      "metadata": {
        "id": "KoJLTvpEacGS"
      },
      "execution_count": null,
      "outputs": []
    },
    {
      "cell_type": "code",
      "source": [
        "# 5 Lambda Function (Anonymous Function)\n",
        "'''A lambda function in Python is a small\n",
        " anonymous function defined using the lambda keyword.\n",
        "'''\n",
        "square = lambda x: x * x\n",
        "print(square(5))   # 25\n"
      ],
      "metadata": {
        "id": "oGwULYYfaxuf"
      },
      "execution_count": null,
      "outputs": []
    },
    {
      "cell_type": "code",
      "source": [
        "# 6 Nested Function (Function inside another function)\n",
        "'''A nested function in Python is a function\n",
        "   defined inside another function. '''\n",
        "\n",
        "def outer():\n",
        "    def inner():\n",
        "        return \"Inner function called\"\n",
        "    return inner()\n"
      ],
      "metadata": {
        "id": "_ekinVDCa9hG"
      },
      "execution_count": null,
      "outputs": []
    },
    {
      "cell_type": "code",
      "source": [
        "# 7 Recursive Function (calls itself)\n",
        "'''A recursive function is a function\n",
        "that calls itself to solve a problem.\n",
        "It must have a base case to stop the\n",
        "recursion, otherwise it runs infinitely.'''\n",
        "\n",
        "def factorial(n):\n",
        "    if n == 1:\n",
        "        return 1\n",
        "    return n * factorial(n-1)\n"
      ],
      "metadata": {
        "id": "WO6g3NgXe3hE"
      },
      "execution_count": null,
      "outputs": []
    },
    {
      "cell_type": "markdown",
      "source": [
        "**Way to call a Function in Python**"
      ],
      "metadata": {
        "id": "I241Y5AlaaqI"
      }
    },
    {
      "cell_type": "code",
      "source": [
        "# 1 Positional Arguments – matched by position/order\n",
        "'''Positional Arguments in Python are arguments that are passed to a function in the correct order (position).\n",
        "'''\n",
        "def add(a, b):\n",
        "    return a + b\n",
        "\n",
        "print(add(5, 3))   # a=5, b=3\n",
        "                   #Output : 8\n"
      ],
      "metadata": {
        "colab": {
          "base_uri": "https://localhost:8080/"
        },
        "id": "bGek08qdV_oT",
        "outputId": "a05a4eb0-e405-4fba-e52b-785ebb41acce"
      },
      "execution_count": null,
      "outputs": [
        {
          "output_type": "stream",
          "name": "stdout",
          "text": [
            "8\n"
          ]
        }
      ]
    },
    {
      "cell_type": "code",
      "source": [
        "# 2 Keyword Arguments\n",
        "''' Keyword Arguments in Python are arguments passed to a function\n",
        "    by explicitly naming the parameter, so the order doesn’t matter.\n",
        "'''\n",
        "def student(name, age):\n",
        "    print(f\"{name} is {age} years old\")\n",
        "\n",
        "student(age=25, name=\"Amit\")  # order doesn’t matter\n",
        "                              #Output : Amit is 25 years old\n"
      ],
      "metadata": {
        "colab": {
          "base_uri": "https://localhost:8080/"
        },
        "id": "gw8m-TS4WNI6",
        "outputId": "70c7afae-730a-403e-df08-58b327f0f04f"
      },
      "execution_count": null,
      "outputs": [
        {
          "output_type": "stream",
          "name": "stdout",
          "text": [
            "Amit is 25 years old\n"
          ]
        }
      ]
    },
    {
      "cell_type": "code",
      "source": [
        "# 3 Default Arguments\n",
        "'''Default Arguments in Python are function parameters\n",
        "   that have a predefined value. '''\n",
        "\n",
        "def greet(name=\"Guest\"):\n",
        "    print(f\"Hello, {name}\")\n",
        "\n",
        "greet()\n",
        "greet(\"Rahul\")\n",
        "\n",
        "#  Output :\n",
        "#  Hello, Guest\n",
        "#  Hello, Rahul"
      ],
      "metadata": {
        "colab": {
          "base_uri": "https://localhost:8080/"
        },
        "id": "jKpzTJdSWiU7",
        "outputId": "3ba817ca-9c85-4130-d82a-73aab17facaf"
      },
      "execution_count": null,
      "outputs": [
        {
          "output_type": "stream",
          "name": "stdout",
          "text": [
            "Hello, Guest\n",
            "Hello, Rahul\n"
          ]
        }
      ]
    },
    {
      "cell_type": "code",
      "source": [
        "# 4 Variable-Length Arguments\n",
        "'''Variable-length arguments let a\n",
        " function accept an unknown number of values.'''\n",
        "def total(*args):\n",
        "    return sum(args)\n",
        "\n",
        "print(total(2, 4, 6))   # 12\n",
        "\n",
        "def details(**kwargs):\n",
        "    print(kwargs)\n",
        "\n",
        "details(name=\"Amit\", city=\"Delhi\")\n",
        "# {'name': 'Amit', 'city': 'Delhi'}\n"
      ],
      "metadata": {
        "id": "VaZAf9B0XaJt"
      },
      "execution_count": null,
      "outputs": []
    },
    {
      "cell_type": "markdown",
      "source": [
        "**Q4:- What is the purpose of the `return` statement in a Python function?**\n",
        "\n",
        "**Answer:-**\n",
        "\n",
        "The return statement in Python is used to send a value back from a function to the caller.\n",
        "\n",
        "• return gives a value back to the caller.\n",
        "\n",
        "• Stops function execution.\n",
        "\n",
        "• Can return single or multiple values.\n",
        "\n",
        "• If absent, function returns None.\n",
        "\n",
        "Examples: with Each Definition"
      ],
      "metadata": {
        "id": "3jNsMY1ffVxD"
      }
    },
    {
      "cell_type": "code",
      "source": [
        "# 1. Send a result back to the caller\n",
        "''' Without return, a function does its work but the\n",
        " result cannot be used outside the function. '''\n",
        "def add(a, b):\n",
        "    return a + b  # sends the sum back\n",
        "\n",
        "result = add(5, 3)\n",
        "print(result)   # 8\n",
        "\n"
      ],
      "metadata": {
        "id": "RfJXbn4cgMb4"
      },
      "execution_count": null,
      "outputs": []
    },
    {
      "cell_type": "code",
      "source": [
        "# 2 End the function execution immediately\n",
        "'''When return is executed, the function\n",
        "   stops running, even if there is code after it.'''\n",
        "\n",
        "def check_even(n):\n",
        "    if n % 2 == 0:\n",
        "        return True\n",
        "    return False  # function ends here\n"
      ],
      "metadata": {
        "id": "bEQ1ZWlPgdXd"
      },
      "execution_count": null,
      "outputs": []
    },
    {
      "cell_type": "code",
      "source": [
        "# 3 Can return multiple values\n",
        "'''Python allows returning more than one value as a tuple.'''\n",
        "\n",
        "def get_name_age():\n",
        "    return \"Amit\", 22\n",
        "\n",
        "name, age = get_name_age()\n",
        "print(name)  # Amit\n",
        "print(age)   # 22\n",
        "\n"
      ],
      "metadata": {
        "id": "oQn-dwbNgpeM"
      },
      "execution_count": null,
      "outputs": []
    },
    {
      "cell_type": "code",
      "source": [
        "# 4 Optional\n",
        "''' If no return is used, the function returns None by default.'''\n",
        "\n",
        "def greet(name):\n",
        "    print(f\"Hello, {name}\")\n",
        "\n",
        "result = greet(\"Amit\")\n",
        "print(result)   # None\n",
        "\n"
      ],
      "metadata": {
        "id": "owqfSVZIg8Ra"
      },
      "execution_count": null,
      "outputs": []
    },
    {
      "cell_type": "markdown",
      "source": [
        "**Q5:- What are iterators in Python and how do they differ from iterables?**\n",
        "\n",
        "**Answer:-**\n",
        "\n",
        "**1. Iterable**\n",
        "\n",
        "  • An iterable is any Python object that can return an iterator.\n",
        "\n",
        "  • Examples: list, tuple, string, dict, set, range\n",
        "\n",
        "  • Iterable objects have an __iter__() method."
      ],
      "metadata": {
        "id": "qwmV3zKThIXY"
      }
    },
    {
      "cell_type": "code",
      "source": [
        "my_list = [1, 2, 3]\n",
        "print(hasattr(my_list, \"__iter__\"))  # True → list is iterable\n"
      ],
      "metadata": {
        "id": "ika5-Mqzh87l"
      },
      "execution_count": null,
      "outputs": []
    },
    {
      "cell_type": "markdown",
      "source": [
        "You can loop over an iterable using a for loop:"
      ],
      "metadata": {
        "id": "hKudgXwPh_1N"
      }
    },
    {
      "cell_type": "code",
      "source": [
        "#for loop\n",
        "for item in my_list:\n",
        "    print(item)\n"
      ],
      "metadata": {
        "id": "RrOZnl0-iCw-"
      },
      "execution_count": null,
      "outputs": []
    },
    {
      "cell_type": "markdown",
      "source": [
        "**2. Iterator**\n",
        "\n",
        " • An iterator is an object that represents a stream of data.\n",
        "\n",
        " •It keeps track of the current position during iteration.\n",
        "\n",
        " •Iterators have two main methods:\n",
        "\n",
        "   1>__iter__() → returns the iterator object itself\n",
        "\n",
        "   2>__next__() → returns the next item; raises StopIteration when done"
      ],
      "metadata": {
        "id": "SXcni8o9iKrt"
      }
    },
    {
      "cell_type": "code",
      "source": [
        "my_list = [1, 2, 3]\n",
        "it = iter(my_list)   # create iterator\n",
        "\n",
        "print(next(it))  # 1\n",
        "print(next(it))  # 2\n",
        "print(next(it))  # 3\n",
        "# print(next(it))  # StopIteration\n"
      ],
      "metadata": {
        "id": "nIEWq2_Hihtv"
      },
      "execution_count": null,
      "outputs": []
    },
    {
      "cell_type": "markdown",
      "source": [
        "**Q6:- Explain the concept of generators in Python and how they are defined.**\n",
        "\n",
        "**Answer:-**\n",
        "\n",
        " • A generator is a special type of iterator that yields items one at a time instead of storing the entire sequence in memory.\n",
        "\n",
        " • Generators are memory-efficient, especially for large data sets.\n",
        "\n",
        " • They pause execution and resume where they left off, unlike normal functions that return a value and exit.\n",
        "\n",
        "**1) Using yield in a Function**\n",
        "\n",
        "Instead of return, a generator function uses yield to produce a value.\n",
        "\n",
        "Each yield pauses the function, saving its state for the next call."
      ],
      "metadata": {
        "id": "DdqfYd59iqtz"
      }
    },
    {
      "cell_type": "code",
      "source": [
        "def count_up_to(n):\n",
        "    i = 1\n",
        "    while i <= n:\n",
        "        yield i\n",
        "        i += 1\n",
        "\n",
        "# Create generator object\n",
        "gen = count_up_to(5)\n",
        "\n",
        "print(next(gen))  # 1\n",
        "print(next(gen))  # 2\n",
        "print(next(gen))  # 3\n",
        "# ... and so on\n"
      ],
      "metadata": {
        "id": "h1h1lQuvjkAD"
      },
      "execution_count": null,
      "outputs": []
    },
    {
      "cell_type": "markdown",
      "source": [
        "You can also loop over a generator with a for loop:"
      ],
      "metadata": {
        "id": "2diriEZOjyUn"
      }
    },
    {
      "cell_type": "code",
      "source": [
        "for number in count_up_to(5):\n",
        "    print(number)\n"
      ],
      "metadata": {
        "id": "C2w5upPEj1OQ"
      },
      "execution_count": null,
      "outputs": []
    },
    {
      "cell_type": "markdown",
      "source": [
        "**2) Using Generator Expressions**\n",
        "\n",
        "• Similar to list comprehensions but use parentheses instead of brackets.\n"
      ],
      "metadata": {
        "id": "whSbGe_Wj4gl"
      }
    },
    {
      "cell_type": "code",
      "source": [
        "squares = (x*x for x in range(1, 6))\n",
        "\n",
        "print(next(squares))  # 1\n",
        "print(next(squares))  # 4\n",
        "\n",
        "for sq in squares:    # continues from last state\n",
        "    print(sq)\n"
      ],
      "metadata": {
        "id": "_NDvLSCXkAhH"
      },
      "execution_count": null,
      "outputs": []
    },
    {
      "cell_type": "markdown",
      "source": [
        "**Q7:- What are the advantages of using generators over regular functions?**\n",
        "\n",
        "**Answer:-**\n",
        "\n",
        " A generator in Python is a special type of function that yields items one at a time instead of returning all values at once.\n",
        "**Advantages:** memory-efficient, lazy evaluation, can handle large or infinite sequences, and maintains state automatically.\n",
        "\n",
        "Examples:\n"
      ],
      "metadata": {
        "id": "LYdb4PQokMMz"
      }
    },
    {
      "cell_type": "code",
      "source": [
        "# Generator function\n",
        "def squares(n):\n",
        "    for i in range(n):\n",
        "        yield i*i\n",
        "\n",
        "# Using generator\n",
        "for val in squares(5):\n",
        "    print(val)\n",
        "'''Output\n",
        "0\n",
        "1\n",
        "4\n",
        "9\n",
        "16 '''\n",
        "\n",
        "'''Generates values one by one, saving memory\n",
        "compared to a regular function returning a list.'''"
      ],
      "metadata": {
        "id": "WM-yiuermrSV"
      },
      "execution_count": null,
      "outputs": []
    },
    {
      "cell_type": "markdown",
      "source": [
        "**Q8:- What is a lambda function in Python and when is it typically used?**\n",
        "\n",
        "**Answer:-**\n",
        "\n",
        "A lambda function in Python is an anonymous (unnamed) function defined using the lambda keyword.\n",
        "\n",
        "•It can take any number of arguments but can only have one expression.\n",
        "\n",
        "•The result of the expression is automatically returned.\n",
        "\n",
        "Syntax:"
      ],
      "metadata": {
        "id": "xYjyknVMnI7D"
      }
    },
    {
      "cell_type": "code",
      "source": [
        "lambda arguments: expression\n"
      ],
      "metadata": {
        "id": "mzGDj_B5nhWE"
      },
      "execution_count": null,
      "outputs": []
    },
    {
      "cell_type": "markdown",
      "source": [
        "**When is it used?**\n",
        "\n",
        " • For short, simple functions that are used temporarily.\n",
        "\n",
        " • Often used with map(), filter(), reduce(), and sorting.\n",
        "\n",
        " Example"
      ],
      "metadata": {
        "id": "wvEtbsOXnjWA"
      }
    },
    {
      "cell_type": "code",
      "source": [
        "# Normal function\n",
        "def square(x):\n",
        "    return x*x\n",
        "\n",
        "# Lambda function\n",
        "square = lambda x: x*x\n",
        "\n",
        "print(square(5))  # 25\n",
        "\n",
        "# Using lambda with map\n",
        "nums = [1, 2, 3, 4]\n",
        "squared = list(map(lambda x: x*x, nums))\n",
        "print(squared)    # [1, 4, 9, 16]\n",
        "\n",
        "'''Lambda = short, one-line, anonymous function.\n",
        "\n",
        " Used for quick calculations or as arguments to\n",
        " higher-order functions.'''"
      ],
      "metadata": {
        "id": "Ys06P8q6ntxX"
      },
      "execution_count": null,
      "outputs": []
    },
    {
      "cell_type": "markdown",
      "source": [
        "**Q9:- Explain the purpose and usage of the `map()` function in Python.**\n",
        "\n",
        "**Answer:-**\n",
        "\n",
        "The map() function in Python applies a given function to each item of an iterable (like a list, tuple, etc.) and returns a map object (an iterator) with the results.\n",
        "\n",
        "**Syntax:**"
      ],
      "metadata": {
        "id": "nVujO1_un_GB"
      }
    },
    {
      "cell_type": "code",
      "source": [
        "map(function, iterable)"
      ],
      "metadata": {
        "id": "2AlasdKWoRcg"
      },
      "execution_count": null,
      "outputs": []
    },
    {
      "cell_type": "markdown",
      "source": [
        "• function → function to apply (can be normal or lambda)\n",
        "\n",
        "• iterable → sequence to process (list, tuple, etc.)\n",
        "\n",
        "**Purpose:**\n",
        "\n",
        "To transform or process all elements of an iterable without writing a loop.\n",
        "\n",
        "Efficient because it returns an iterator, not a list, so memory is saved for large data."
      ],
      "metadata": {
        "id": "YMW3uzkFoTwK"
      }
    },
    {
      "cell_type": "code",
      "source": [
        "# Example 1: Using a Normal Function\n",
        "def square(x):\n",
        "    return x*x\n",
        "\n",
        "nums = [1, 2, 3, 4]\n",
        "result = map(square, nums)\n",
        "\n",
        "print(list(result))  # [1, 4, 9, 16]\n"
      ],
      "metadata": {
        "id": "HJxKuP7uqy6E"
      },
      "execution_count": null,
      "outputs": []
    },
    {
      "cell_type": "code",
      "source": [
        "# Example 2: Using a Lambda Function\n",
        "\n",
        "nums = [1, 2, 3, 4]\n",
        "squared = map(lambda x: x*x, nums)\n",
        "print(list(squared))  # [1, 4, 9, 16]\n",
        "\n"
      ],
      "metadata": {
        "id": "nH831L7lq6YS"
      },
      "execution_count": null,
      "outputs": []
    },
    {
      "cell_type": "markdown",
      "source": [
        "**Q10:-What is the difference between `map()`, `reduce()`, and `filter()` functions in Python**\n",
        "\n",
        "**Answer:-**\n",
        "\n",
        "**1. map()**\n",
        "\n",
        " • Purpose: Applies a function to every item in an iterable and returns a new iterable (map object).\n",
        "\n",
        " • Input: Function + iterable\n",
        "\n",
        " • Output: Iterable of transformed items\n",
        "\n",
        "**Example:**"
      ],
      "metadata": {
        "id": "OYpL1YzBrWOm"
      }
    },
    {
      "cell_type": "code",
      "source": [
        "nums = [1, 2, 3, 4]\n",
        "squared = map(lambda x: x*x, nums)\n",
        "print(list(squared))  # [1, 4, 9, 16]\n"
      ],
      "metadata": {
        "id": "XScXk2-0r7kg"
      },
      "execution_count": null,
      "outputs": []
    },
    {
      "cell_type": "markdown",
      "source": [
        "**2. filter()**\n",
        "\n",
        "  • Purpose: Filters items in an iterable based on a condition (function returns True/False).\n",
        "\n",
        "  • Input: Function (returns boolean) + iterable\n",
        "\n",
        "  • Output: Iterable of items that satisfy the condition\n",
        "\n",
        "**Example:**"
      ],
      "metadata": {
        "id": "8isrkEN2sNy_"
      }
    },
    {
      "cell_type": "code",
      "source": [
        "nums = [1, 2, 3, 4, 5]\n",
        "even = filter(lambda x: x % 2 == 0, nums)\n",
        "print(list(even))  # [2, 4]\n"
      ],
      "metadata": {
        "id": "UlAdaKF5sdzQ"
      },
      "execution_count": null,
      "outputs": []
    },
    {
      "cell_type": "markdown",
      "source": [
        "**3. reduce() (from functools module)**\n",
        "\n",
        " • Purpose: Reduces a sequence to a single value by applying a function cumulatively.\n",
        "\n",
        " • Input: Function (2 args) + iterable\n",
        "\n",
        " • Output: Single value\n",
        "\n",
        "**Example:-**"
      ],
      "metadata": {
        "id": "UcHenLrMskUM"
      }
    },
    {
      "cell_type": "code",
      "source": [
        "from functools import reduce\n",
        "\n",
        "nums = [1, 2, 3, 4]\n",
        "sum_all = reduce(lambda x, y: x + y, nums)\n",
        "print(sum_all)  # 10\n"
      ],
      "metadata": {
        "id": "SdhMRK7Xs0Ke"
      },
      "execution_count": null,
      "outputs": []
    },
    {
      "cell_type": "markdown",
      "source": [
        "**11. Using pen & Paper write the internal mechanism for sum operation usin  reduce function on this given**\n",
        "\n",
        "list:[47,11,42,13];\n",
        "\n",
        "**Answer:-**\n",
        "\n",
        "We use:\n",
        "[Hand written Image Drive link](https://drive.google.com/file/d/1oKO7HKxkUWPovw6IcY2altvht8TfKl_f/view?usp=sharing)"
      ],
      "metadata": {
        "id": "xEnGdl_hs_UU"
      }
    },
    {
      "cell_type": "code",
      "source": [
        "from functools import reduce\n",
        "nums = [47, 11, 42, 13]\n",
        "result = reduce(lambda x, y: x + y, nums)\n"
      ],
      "metadata": {
        "id": "Cm8LmzZks-2G"
      },
      "execution_count": null,
      "outputs": []
    },
    {
      "cell_type": "code",
      "source": [
        "'''\n",
        "1. Initial Step: Take first two numbers\n",
        "Step 1: 47+11\n",
        "Step 2: 58+42\n",
        "Step 3: 100+13\n",
        " '''\n",
        "#Final Result\n",
        "reduce(lambda x, y: x + y, [47, 11, 42, 13]) = 113"
      ],
      "metadata": {
        "id": "uTDm6RSpugzD"
      },
      "execution_count": null,
      "outputs": []
    },
    {
      "cell_type": "markdown",
      "source": [
        "For the Practical questions Refer to Below link\n",
        "\n",
        "[Click here](https://colab.research.google.com/drive/1r_IioHjp-QgwP4eJRge6xclF_sUR3kr-#scrollTo=L6n22Y0e5k1f)"
      ],
      "metadata": {
        "id": "bdkubk8M0AX5"
      }
    }
  ]
}